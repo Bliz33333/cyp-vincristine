{
 "cells": [
  {
   "cell_type": "markdown",
   "metadata": {},
   "source": [
    "# Tarini's Gekko test for solving OCT"
   ]
  },
  {
   "cell_type": "code",
   "execution_count": 3,
   "metadata": {},
   "outputs": [
    {
     "ename": "Exception",
     "evalue": " @error: Solution Not Found\n",
     "output_type": "error",
     "traceback": [
      "\u001b[0;31m---------------------------------------------------------------------------\u001b[0m",
      "\u001b[0;31mException\u001b[0m                                 Traceback (most recent call last)",
      "\u001b[1;32m/Users/tarini/Library/CloudStorage/OneDrive-TheUniversityofTexasatAustin/CSEM/Comp. Onc_/cyp-vincristine/code/gekko-test.ipynb Cell 2\u001b[0m line \u001b[0;36m5\n\u001b[1;32m     <a href='vscode-notebook-cell:/Users/tarini/Library/CloudStorage/OneDrive-TheUniversityofTexasatAustin/CSEM/Comp.%20Onc_/cyp-vincristine/code/gekko-test.ipynb#W1sZmlsZQ%3D%3D?line=49'>50</a>\u001b[0m m\u001b[39m.\u001b[39moptions\u001b[39m.\u001b[39mMAX_ITER \u001b[39m=\u001b[39m \u001b[39m1e6\u001b[39m\n\u001b[1;32m     <a href='vscode-notebook-cell:/Users/tarini/Library/CloudStorage/OneDrive-TheUniversityofTexasatAustin/CSEM/Comp.%20Onc_/cyp-vincristine/code/gekko-test.ipynb#W1sZmlsZQ%3D%3D?line=50'>51</a>\u001b[0m m\u001b[39m.\u001b[39moptions\u001b[39m.\u001b[39mSOLVER \u001b[39m=\u001b[39m \u001b[39m1\u001b[39m  \u001b[39m# APOPT solver+\u001b[39;00m\n\u001b[0;32m---> <a href='vscode-notebook-cell:/Users/tarini/Library/CloudStorage/OneDrive-TheUniversityofTexasatAustin/CSEM/Comp.%20Onc_/cyp-vincristine/code/gekko-test.ipynb#W1sZmlsZQ%3D%3D?line=51'>52</a>\u001b[0m m\u001b[39m.\u001b[39;49msolve(disp\u001b[39m=\u001b[39;49m\u001b[39mFalse\u001b[39;49;00m) \u001b[39m# solve\u001b[39;00m\n\u001b[1;32m     <a href='vscode-notebook-cell:/Users/tarini/Library/CloudStorage/OneDrive-TheUniversityofTexasatAustin/CSEM/Comp.%20Onc_/cyp-vincristine/code/gekko-test.ipynb#W1sZmlsZQ%3D%3D?line=53'>54</a>\u001b[0m \u001b[39m# Plot results\u001b[39;00m\n\u001b[1;32m     <a href='vscode-notebook-cell:/Users/tarini/Library/CloudStorage/OneDrive-TheUniversityofTexasatAustin/CSEM/Comp.%20Onc_/cyp-vincristine/code/gekko-test.ipynb#W1sZmlsZQ%3D%3D?line=54'>55</a>\u001b[0m fig, axes \u001b[39m=\u001b[39m plt\u001b[39m.\u001b[39msubplots(nrows\u001b[39m=\u001b[39m\u001b[39m1\u001b[39m, ncols\u001b[39m=\u001b[39m\u001b[39m2\u001b[39m, figsize\u001b[39m=\u001b[39m(\u001b[39m10\u001b[39m, \u001b[39m5\u001b[39m))\n",
      "File \u001b[0;32m/Library/Frameworks/Python.framework/Versions/3.12/lib/python3.12/site-packages/gekko/gekko.py:2213\u001b[0m, in \u001b[0;36mGEKKO.solve\u001b[0;34m(self, disp, debug, GUI, **kwargs)\u001b[0m\n\u001b[1;32m   2211\u001b[0m \u001b[39m#print APM error message and die\u001b[39;00m\n\u001b[1;32m   2212\u001b[0m \u001b[39mif\u001b[39;00m (debug \u001b[39m>\u001b[39m\u001b[39m=\u001b[39m \u001b[39m1\u001b[39m) \u001b[39mand\u001b[39;00m (\u001b[39m'\u001b[39m\u001b[39m@error\u001b[39m\u001b[39m'\u001b[39m \u001b[39min\u001b[39;00m response):\n\u001b[0;32m-> 2213\u001b[0m     \u001b[39mraise\u001b[39;00m \u001b[39mException\u001b[39;00m(response)\n\u001b[1;32m   2215\u001b[0m \u001b[39m#load results\u001b[39;00m\n\u001b[1;32m   2216\u001b[0m \u001b[39mdef\u001b[39;00m \u001b[39mbyte2str\u001b[39m(byte):\n",
      "\u001b[0;31mException\u001b[0m:  @error: Solution Not Found\n"
     ]
    }
   ],
   "source": [
    "from gekko import GEKKO\n",
    "import numpy as np\n",
    "import matplotlib.pyplot as plt\n",
    "\n",
    "# Initialize the model\n",
    "m = GEKKO(remote=True)\n",
    "\n",
    "# Define the number of time steps and time vector (22 days)\n",
    "nt = 7 # each cycle is 7 days\n",
    "m.time = np.array([i for i in range(1, nt+1)]) \n",
    "\n",
    "# State Variables and Parameters\n",
    "C_B = m.Var()  # Blood concentration in mg/L\n",
    "#C_target = m.Var() # Blood level concentration in mg/L for SOC / target\n",
    "M = m.Var(value=0.0)  # Total amount of drug metabolized (mg)\n",
    "dose = m.Var(lb=0.0, ub=5)  # Drug administered at time t\n",
    "#D_total = m.Var() # Total drug in body by time t\n",
    "RC = m.Var(value=0) # Running cost (the integrand of the objective function)\n",
    "p = np.zeros(nt) # mark final time point\n",
    "p[-1] = 1.0\n",
    "final = m.Param(value=p)\n",
    "\n",
    "# Set bounds \n",
    "dose_mask = np.zeros(nt)\n",
    "dose_mask[0] = 1.0\n",
    "first_dose_mask = m.Param(value=dose_mask)\n",
    "m.Equation(dose * first_dose_mask >= 1.0)  # ensure nonzero first dose\n",
    "\n",
    "# General parameters\n",
    "BV = 5.0   # L\n",
    "BSA = 1.9  # m²\n",
    "enz_count = 5.0 # pmol \n",
    "CYP_mg_per_pmol = 5.7e-5 # mg/pmol\n",
    "CYP_g_per_mol = 5.7e4 # g/mol\n",
    "min_to_days = 1440.0 # minutes in a day \n",
    "\n",
    "# Patient-specific parameters\n",
    "V_max = 3.5 * CYP_mg_per_pmol * min_to_days # Maximum rate (pmol/min/pmol P450) * CYP_mg_per_pmol (mg/pmol) = (mg/min/pmol P450)\n",
    "K_m = 16.0 * CYP_g_per_mol * 1.0e-3 # Substrate concentration at half-maximal rate (mg/L)\n",
    "\n",
    "# Equations \n",
    "m.Equation(C_B.dt() == (dose*BSA - M) / BV)  # Rate of change of blood concentration\n",
    "m.Equation(M.dt() == (V_max*enz_count * C_B) / (K_m + C_B))  # Michaelis-Menten kinetics\n",
    "#m.Equation(D_total.dt() == 5)  # Rate of change of total dose \n",
    "m.Equation(RC.dt() == -(3.0*(C_B**2) + dose**2)) # Integrand of cost functional \n",
    "m.Obj(RC*final) # Objective function\n",
    "\n",
    "# Solve the optimization problem\n",
    "m.options.IMODE = 6 # optimal control mode\n",
    "m.options.MAX_ITER = 1e6\n",
    "m.options.SOLVER = 1  # APOPT solver+\n",
    "m.solve(disp=False) # solve\n",
    "\n",
    "# Plot results\n",
    "fig, axes = plt.subplots(nrows=1, ncols=2, figsize=(10, 5))\n",
    "axes = axes.ravel()\n",
    "axes[0].plot(m.time, C_B.value,'ko',label=r'$BLC$')\n",
    "axes[0].legend(loc='best', fancybox=False, shadow=False, frameon=False)\n",
    "axes[0].set_xlabel('Time')\n",
    "axes[0].set_ylabel('C_B (Blood Level Concentration)')\n",
    "axes[0].set_xlim((0,nt))\n",
    "\n",
    "axes[1].plot(m.time, dose.value,'ro',label=r'$dose$')\n",
    "axes[1].legend(loc='best', fancybox=False, shadow=False, frameon=False)\n",
    "axes[1].set_xlabel('Time')\n",
    "axes[1].set_ylabel('Dose Administered')\n",
    "axes[1].set_xlim((0,nt))\n",
    "plt.show()"
   ]
  },
  {
   "cell_type": "code",
   "execution_count": null,
   "metadata": {},
   "outputs": [],
   "source": [
    "# Accumulate doses over time\n",
    "doses = np.zeros(nt)\n",
    "dose_interval = [1, 8, 15, 22]  # Days of dose administration (1st, 8th, 15th, 22nd)\n",
    "\n",
    "# Adjust dosing days to the correct indices (0-based indexing)\n",
    "BSA = 1.9  # m²\n",
    "SOC = 1.4  # mg/m² per dose\n",
    "dose_amount = SOC * BSA  # mg\n",
    "dose_intervals_adjusted = [i - 1 for i in dose_interval if i <= nt]  # (0th, 7th, 14th, 21st)\n",
    "\n",
    "# Create dose schedule\n",
    "for t_dose in dose_intervals_adjusted:\n",
    "    doses[t_dose] = dose_amount\n",
    "\n",
    "# Equation for accumulating doses over time (total administered dose)\n",
    "m.Equation(D_total.dt() == doses[0])  # Start with first dose (initialize it)\n",
    "\n",
    "for i in range(1, nt):\n",
    "    m.Equation(D_total.dt() == doses[i] + D_total)  # Accumulate doses over time"
   ]
  }
 ],
 "metadata": {
  "kernelspec": {
   "display_name": "Python 3",
   "language": "python",
   "name": "python3"
  },
  "language_info": {
   "codemirror_mode": {
    "name": "ipython",
    "version": 3
   },
   "file_extension": ".py",
   "mimetype": "text/x-python",
   "name": "python",
   "nbconvert_exporter": "python",
   "pygments_lexer": "ipython3",
   "version": "3.12.0"
  }
 },
 "nbformat": 4,
 "nbformat_minor": 2
}
